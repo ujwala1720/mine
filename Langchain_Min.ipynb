{
  "cells": [
    {
      "cell_type": "markdown",
      "metadata": {
        "id": "view-in-github",
        "colab_type": "text"
      },
      "source": [
        "<a href=\"https://colab.research.google.com/github/ujwala1720/mine/blob/main/Langchain_Min.ipynb\" target=\"_parent\"><img src=\"https://colab.research.google.com/assets/colab-badge.svg\" alt=\"Open In Colab\"/></a>"
      ]
    },
    {
      "cell_type": "code",
      "execution_count": null,
      "metadata": {
        "id": "bls-xHdwScdu"
      },
      "outputs": [],
      "source": [
        "! pip install langchain\n",
        "! pip install faiss-cpu\n",
        "! pip install openai\n",
        "! pip install unstructured\n",
        "! pip install tiktoken"
      ]
    },
    {
      "cell_type": "code",
      "execution_count": null,
      "metadata": {
        "id": "x1s3K4hPTY6-"
      },
      "outputs": [],
      "source": [
        "import os\n",
        "os.environ[\"OPENAI_API_KEY\"] = \"paste api key\""
      ]
    },
    {
      "cell_type": "code",
      "execution_count": null,
      "metadata": {
        "id": "SGa_GAt1Uhp-"
      },
      "outputs": [],
      "source": [
        "urls =[\"https://coal.nic.in/acts-rules-policies\"\n",
        "\n",
        "]"
      ]
    },
    {
      "cell_type": "code",
      "execution_count": null,
      "metadata": {
        "colab": {
          "background_save": true
        },
        "id": "gu9bzp9EXWl8"
      },
      "outputs": [],
      "source": [
        "from langchain.document_loaders import UnstructuredURLLoader\n",
        "loaders = UnstructuredURLLoader(urls)\n",
        "data = loaders.load()\n",
        "data\n",
        "\n"
      ]
    },
    {
      "cell_type": "code",
      "execution_count": null,
      "metadata": {
        "id": "8abKvUWb7YD7"
      },
      "outputs": [],
      "source": [
        "from langchain.text_splitter import CharacterTextSplitter\n",
        "text_splitter = CharacterTextSplitter(separator='\\n',chunk_size=1000,chunk_overlap=200)\n",
        "docs = text_splitter.split_documents(data)\n",
        "docs"
      ]
    },
    {
      "cell_type": "code",
      "execution_count": null,
      "metadata": {
        "id": "_AVm7UsJ_RU0"
      },
      "outputs": [],
      "source": [
        "import pickle\n",
        "import faiss\n",
        "from langchain.vectorstores import FAISS\n"
      ]
    },
    {
      "cell_type": "code",
      "execution_count": null,
      "metadata": {
        "id": "7rFWuezJ__x8"
      },
      "outputs": [],
      "source": [
        "from langchain.chains import RetrievalQAWithSourcesChain\n",
        "from langchain.chains.question_answering import load_qa_chain\n",
        "from langchain import OpenAI\n",
        "from langchain.embeddings import OpenAIEmbeddings\n",
        "embeddings = OpenAIEmbeddings()\n"
      ]
    },
    {
      "cell_type": "code",
      "execution_count": null,
      "metadata": {
        "id": "SA4QWpppnE33"
      },
      "outputs": [],
      "source": [
        "embeddings"
      ]
    },
    {
      "cell_type": "code",
      "execution_count": null,
      "metadata": {
        "id": "mYzWlNpWnPmD"
      },
      "outputs": [],
      "source": [
        "vectorstore_OpenAI = FAISS.from_documents(docs,embeddings)\n",
        "vectorstore_OpenAI.save_local(\"faiss_store\")\n"
      ]
    },
    {
      "cell_type": "code",
      "execution_count": null,
      "metadata": {
        "id": "lv6VH4VOmkAy"
      },
      "outputs": [],
      "source": [
        "#Assign this to a variable\n",
        "kal =FAISS.load_local(\"faiss_store\", OpenAIEmbeddings())\n",
        "kal"
      ]
    },
    {
      "cell_type": "code",
      "execution_count": null,
      "metadata": {
        "id": "hpuMdkP9RQzC"
      },
      "outputs": [],
      "source": [
        "llm=OpenAI(temperature=0, model_name='text-davinci-003')"
      ]
    },
    {
      "cell_type": "code",
      "execution_count": null,
      "metadata": {
        "id": "JKO2vsYDSc_I"
      },
      "outputs": [],
      "source": [
        "chain = RetrievalQAWithSourcesChain.from_llm(llm=llm, retriever=kal.as_retriever())"
      ]
    },
    {
      "cell_type": "code",
      "execution_count": null,
      "metadata": {
        "id": "32dPHkuMhBdI"
      },
      "outputs": [],
      "source": [
        "chain({\"question\": \"What is mining?\"}, return_only_outputs=True)\n"
      ]
    },
    {
      "cell_type": "code",
      "source": [
        "chain({\"question\": \"Tell me about the rules and regulations of mining\"}, return_only_outputs=True)"
      ],
      "metadata": {
        "colab": {
          "base_uri": "https://localhost:8080/"
        },
        "id": "2grqDTGNAgxB",
        "outputId": "3276e486-7f00-4056-83a5-c9441db1cb66"
      },
      "execution_count": null,
      "outputs": [
        {
          "output_type": "execute_result",
          "data": {
            "text/plain": [
              "{'answer': ' The rules and regulations of mining include the Mineral Concession (Amendment) Rules 2021, The Coal Mines (Special Provisions) Act, 2015, Amendment in the Constitution of Single Bench Revisional Authorities under Section 30 of Mines and Minerals (Development and Regulation) (MMDR) Act, 1957, Amendment in Colliery Control Rules, 2004, The Coal Mines (Special Provisions) Amendment Rules, 2020, The Coal Bearing Areas (Acquisition and Development) Rules, 1957, The Coal Mines (Special Provisions) Amendment Rules, 2015, The Coal Mines (Special Provisions) Rules, 2014, Methodology for Auction of Coal Mines / Blocks for sale of coal under the Coal Mines (Special Provisions) Act, 2015 and Mines and Minerals (Development & Regulation) Act, 1957, and Methodology for allowing allocatees of coal mines for specified end-use or own consumption to sell upto 25% of actual production on ROM basis in open market under the Coal Mines (Special Provisions) Act, 2015.\\n',\n",
              " 'sources': 'https://coal.nic.in/acts-rules-policies'}"
            ]
          },
          "metadata": {},
          "execution_count": 26
        }
      ]
    }
  ],
  "metadata": {
    "colab": {
      "provenance": [],
      "include_colab_link": true
    },
    "kernelspec": {
      "display_name": "Python 3",
      "name": "python3"
    },
    "language_info": {
      "name": "python"
    }
  },
  "nbformat": 4,
  "nbformat_minor": 0
}